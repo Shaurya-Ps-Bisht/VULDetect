{
 "cells": [
  {
   "cell_type": "code",
   "execution_count": null,
   "id": "57366597-903c-491a-916e-4aa3996e6959",
   "metadata": {},
   "outputs": [],
   "source": [
    "import pandas as pd\n",
    "\n",
    "def load_data_from_csv(csv_path, num_rows=None):\n",
    "    \n",
    "    df = pd.read_csv(csv_path, nrows=num_rows)\n",
    "    X_train = df['func'].tolist()\n",
    "    y_train = df['target'].tolist()\n",
    "\n",
    "    return X_train, y_train\n"
   ]
  }
 ],
 "metadata": {
  "kernelspec": {
   "display_name": "Python 3 (ipykernel)",
   "language": "python",
   "name": "python3"
  },
  "language_info": {
   "codemirror_mode": {
    "name": "ipython",
    "version": 3
   },
   "file_extension": ".py",
   "mimetype": "text/x-python",
   "name": "python",
   "nbconvert_exporter": "python",
   "pygments_lexer": "ipython3",
   "version": "3.8.10"
  }
 },
 "nbformat": 4,
 "nbformat_minor": 5
}
