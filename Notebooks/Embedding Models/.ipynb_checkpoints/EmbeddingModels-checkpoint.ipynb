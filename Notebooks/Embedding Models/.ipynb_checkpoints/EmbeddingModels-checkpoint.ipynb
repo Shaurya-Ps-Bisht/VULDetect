{
 "cells": [
  {
   "cell_type": "markdown",
   "id": "c2075e14-385b-4cfe-babd-91a2f5601182",
   "metadata": {},
   "source": [
    "# Word2vec (SENTENCE)"
   ]
  },
  {
   "cell_type": "code",
   "execution_count": 1,
   "id": "27cb5a64",
   "metadata": {},
   "outputs": [
    {
     "name": "stderr",
     "output_type": "stream",
     "text": [
      "2024-02-08 03:31:25.546981: I tensorflow/core/platform/cpu_feature_guard.cc:193] This TensorFlow binary is optimized with oneAPI Deep Neural Network Library (oneDNN) to use the following CPU instructions in performance-critical operations:  AVX2 AVX512F AVX512_VNNI FMA\n",
      "To enable them in other operations, rebuild TensorFlow with the appropriate compiler flags.\n",
      "2024-02-08 03:31:25.664190: I tensorflow/core/util/port.cc:104] oneDNN custom operations are on. You may see slightly different numerical results due to floating-point round-off errors from different computation orders. To turn them off, set the environment variable `TF_ENABLE_ONEDNN_OPTS=0`.\n",
      "2024-02-08 03:31:26.461334: W tensorflow/compiler/xla/stream_executor/platform/default/dso_loader.cc:64] Could not load dynamic library 'libnvinfer.so.7'; dlerror: libnvinfer.so.7: cannot open shared object file: No such file or directory; LD_LIBRARY_PATH: :/home/shaurya/miniconda3/envs/tf/lib/\n",
      "2024-02-08 03:31:26.461455: W tensorflow/compiler/xla/stream_executor/platform/default/dso_loader.cc:64] Could not load dynamic library 'libnvinfer_plugin.so.7'; dlerror: libnvinfer_plugin.so.7: cannot open shared object file: No such file or directory; LD_LIBRARY_PATH: :/home/shaurya/miniconda3/envs/tf/lib/\n",
      "2024-02-08 03:31:26.461463: W tensorflow/compiler/tf2tensorrt/utils/py_utils.cc:38] TF-TRT Warning: Cannot dlopen some TensorRT libraries. If you would like to use Nvidia GPU with TensorRT, please make sure the missing libraries mentioned above are installed properly.\n"
     ]
    },
    {
     "name": "stdout",
     "output_type": "stream",
     "text": [
      "CUDA Available: [PhysicalDevice(name='/physical_device:GPU:0', device_type='GPU'), PhysicalDevice(name='/physical_device:GPU:1', device_type='GPU'), PhysicalDevice(name='/physical_device:GPU:2', device_type='GPU'), PhysicalDevice(name='/physical_device:GPU:3', device_type='GPU'), PhysicalDevice(name='/physical_device:GPU:4', device_type='GPU'), PhysicalDevice(name='/physical_device:GPU:5', device_type='GPU')]\n"
     ]
    }
   ],
   "source": [
    "import tensorflow as tf\n",
    "\n",
    "print(\"CUDA Available:\", tf.config.list_physical_devices('GPU'))\n",
    "    "
   ]
  },
  {
   "cell_type": "code",
   "execution_count": 3,
   "id": "b0f1323b-e577-493a-9c5f-ac96943ce480",
   "metadata": {},
   "outputs": [
    {
     "name": "stdout",
     "output_type": "stream",
     "text": [
      "Embedding model (size 50) saved at: /home/shaurya/BTP/1/Outputs/Embedding Models 2/Word2vec/word2vec_50_model.pkl\n",
      "Embedding model (size 100) saved at: /home/shaurya/BTP/1/Outputs/Embedding Models 2/Word2vec/word2vec_100_model.pkl\n",
      "Embedding model (size 150) saved at: /home/shaurya/BTP/1/Outputs/Embedding Models 2/Word2vec/word2vec_150_model.pkl\n",
      "Embedding model (size 200) saved at: /home/shaurya/BTP/1/Outputs/Embedding Models 2/Word2vec/word2vec_200_model.pkl\n"
     ]
    }
   ],
   "source": [
    "import os\n",
    "import pickle\n",
    "from gensim.models import Word2Vec\n",
    "\n",
    "# Function to load files from a directory\n",
    "def load_files(directory):\n",
    "    file_list = []\n",
    "    for root, dirs, files in os.walk(directory):\n",
    "        for file in files:\n",
    "            if file.endswith(\".c\"):\n",
    "                file_path = os.path.join(root, file)\n",
    "                file_list.append(file_path)\n",
    "    return file_list\n",
    "\n",
    "# Code for embeddings:\n",
    "dataset_directory = \"/home/shaurya/BTP/1/Dataset/Raw/dataset 1/Dataset_raw\"\n",
    "vulnerable_dir = os.path.join(dataset_directory, \"Vulnerable\")\n",
    "non_vulnerable_dir = os.path.join(dataset_directory, \"Non_vulnerable\")\n",
    "output_dir = '/home/shaurya/BTP/1/Outputs/Embedding Models 2/Word2vec'\n",
    "\n",
    "# Load training and test files for vulnerable and non-vulnerable classes\n",
    "vulnerable_train_files = load_files(os.path.join(vulnerable_dir, 'TRAIN'))\n",
    "vulnerable_test_files = load_files(os.path.join(vulnerable_dir, 'TEST'))\n",
    "non_vulnerable_train_files = load_files(os.path.join(non_vulnerable_dir, 'TRAIN'))\n",
    "non_vulnerable_test_files = load_files(os.path.join(non_vulnerable_dir, 'TEST'))\n",
    "\n",
    "# Combine training and test files for both classes\n",
    "train_codes = vulnerable_train_files + non_vulnerable_train_files\n",
    "test_codes = vulnerable_test_files + non_vulnerable_test_files\n",
    "\n",
    "# Setting word2vec parameters\n",
    "embedding_dims = [50, 100, 150, 200]  # Different embedding sizes\n",
    "window_size = 5\n",
    "min_count = 1\n",
    "\n",
    "# Iterate over different embedding sizes\n",
    "for embedding_dim in embedding_dims:\n",
    "    # Preprocess the code files\n",
    "    corpus = [open(file, 'r').read().split(' ') for file in train_codes]\n",
    "\n",
    "    # Train the Word2Vec model\n",
    "    word2vec_model = Word2Vec(corpus, vector_size=embedding_dim, window=window_size, min_count=min_count)\n",
    "\n",
    "    # Save the Word2Vec model using pickle with a specific name\n",
    "    model_name = f'word2vec_{embedding_dim}_model.pkl'\n",
    "    model_path = os.path.join(output_dir, model_name)\n",
    "    with open(model_path, 'wb') as f:\n",
    "        pickle.dump(word2vec_model, f)\n",
    "\n",
    "    print(f\"Embedding model (size {embedding_dim}) saved at:\", model_path)\n"
   ]
  },
  {
   "cell_type": "markdown",
   "id": "ebffe3ef-763b-4859-b074-90988f058816",
   "metadata": {},
   "source": [
    "# Vocabulary Check"
   ]
  },
  {
   "cell_type": "code",
   "execution_count": 4,
   "id": "766bbe82-6c1a-499f-bff3-7f7f6cf2a802",
   "metadata": {},
   "outputs": [
    {
     "name": "stdout",
     "output_type": "stream",
     "text": [
      "Vocabulary size: 539249\n"
     ]
    }
   ],
   "source": [
    "import pickle\n",
    "\n",
    "# Load the Word2Vec model from the pickle file\n",
    "model_file = \"/home/shaurya/BTP/1/Outputs/Embedding Models 2/Word2vec/word2vec_150_model.pkl\"\n",
    "with open(model_file, \"rb\") as f:\n",
    "    word2vec_model = pickle.load(f)\n",
    "\n",
    "# Get the first 200 words from the vocabulary\n",
    "vocabulary = list(word2vec_model.wv.index_to_key)\n",
    "# Print the vocabulary size\n",
    "print(\"Vocabulary size:\", len(vocabulary))\n",
    "\n",
    "# # Print the first 200 words\n",
    "# for word in vocabulary:\n",
    "#     print(word)\n"
   ]
  },
  {
   "cell_type": "markdown",
   "id": "2b0c51c8-0cce-465c-87fe-73f8d41495b3",
   "metadata": {},
   "source": [
    "# FastText (SENTENCE)"
   ]
  },
  {
   "cell_type": "code",
   "execution_count": 5,
   "id": "8368158d-ac18-4366-ae58-20b6d05149c3",
   "metadata": {},
   "outputs": [
    {
     "name": "stdout",
     "output_type": "stream",
     "text": [
      "Embedding model (size 50) saved at: /home/shaurya/BTP/1/Outputs/Embedding Models 2/FastText/fasttext_50_model.pkl\n",
      "Embedding model (size 100) saved at: /home/shaurya/BTP/1/Outputs/Embedding Models 2/FastText/fasttext_100_model.pkl\n",
      "Embedding model (size 150) saved at: /home/shaurya/BTP/1/Outputs/Embedding Models 2/FastText/fasttext_150_model.pkl\n",
      "Embedding model (size 200) saved at: /home/shaurya/BTP/1/Outputs/Embedding Models 2/FastText/fasttext_200_model.pkl\n"
     ]
    }
   ],
   "source": [
    "import os\n",
    "import pickle\n",
    "from gensim.models import FastText\n",
    "\n",
    "# Function to load files from a directory\n",
    "def load_files(directory):\n",
    "    file_list = []\n",
    "    for root, dirs, files in os.walk(directory):\n",
    "        for file in files:\n",
    "            if file.endswith(\".c\"):\n",
    "                file_path = os.path.join(root, file)\n",
    "                file_list.append(file_path)\n",
    "    return file_list\n",
    "\n",
    "# Code for embeddings:\n",
    "output_dir = '/home/shaurya/BTP/1/Outputs/Embedding Models 2/FastText'\n",
    "\n",
    "# Load training and test files for vulnerable and non-vulnerable classes\n",
    "vulnerable_train_files = load_files(os.path.join(vulnerable_dir, 'TRAIN'))\n",
    "vulnerable_test_files = load_files(os.path.join(vulnerable_dir, 'TEST'))\n",
    "non_vulnerable_train_files = load_files(os.path.join(non_vulnerable_dir, 'TRAIN'))\n",
    "non_vulnerable_test_files = load_files(os.path.join(non_vulnerable_dir, 'TEST'))\n",
    "\n",
    "# Combine training and test files for both classes\n",
    "train_codes = vulnerable_train_files + non_vulnerable_train_files\n",
    "test_codes = vulnerable_test_files + non_vulnerable_test_files\n",
    "\n",
    "# Setting FastText parameters\n",
    "embedding_dims = [50, 100, 150, 200]  # Different embedding sizes\n",
    "window_size = 5\n",
    "min_count = 1\n",
    "\n",
    "# Iterate over different embedding sizes\n",
    "for embedding_dim in embedding_dims:\n",
    "    # Preprocess the code files\n",
    "    corpus = [open(file, 'r').read().split(' ') for file in train_codes]\n",
    "\n",
    "    # Train the FastText model\n",
    "    fasttext_model = FastText(corpus, vector_size=embedding_dim, window=window_size, min_count=min_count)\n",
    "\n",
    "    # Save the FastText model using pickle with a specific name\n",
    "    model_name = f'fasttext_{embedding_dim}_model.pkl'\n",
    "    model_path = os.path.join(output_dir, model_name)\n",
    "    with open(model_path, 'wb') as f:\n",
    "        pickle.dump(fasttext_model, f)\n",
    "\n",
    "    print(f\"Embedding model (size {embedding_dim}) saved at:\", model_path)\n"
   ]
  },
  {
   "cell_type": "code",
   "execution_count": 6,
   "id": "481571f2-4d15-493f-9bc9-2ea10508b313",
   "metadata": {},
   "outputs": [
    {
     "name": "stdout",
     "output_type": "stream",
     "text": [
      "Vocabulary size: 539249\n"
     ]
    }
   ],
   "source": [
    "import gensim\n",
    "\n",
    "# Load the FastText model from the pickle file\n",
    "model_file = \"/home/shaurya/BTP/1/Outputs/Embedding Models 2/FastText/fasttext_200_model.pkl\"\n",
    "fasttext_model = gensim.models.FastText.load(model_file)\n",
    "\n",
    "# Access the vocabulary (list of words)\n",
    "vocabulary = fasttext_model.wv.index_to_key\n",
    "\n",
    "# Print the first 200 words from the vocabulary\n",
    "print(\"Vocabulary size:\", len(vocabulary))\n"
   ]
  },
  {
   "cell_type": "code",
   "execution_count": null,
   "id": "5cdd6f4e",
   "metadata": {},
   "outputs": [],
   "source": []
  }
 ],
 "metadata": {
  "kernelspec": {
   "display_name": "Python 3 (ipykernel)",
   "language": "python",
   "name": "python3"
  },
  "language_info": {
   "codemirror_mode": {
    "name": "ipython",
    "version": 3
   },
   "file_extension": ".py",
   "mimetype": "text/x-python",
   "name": "python",
   "nbconvert_exporter": "python",
   "pygments_lexer": "ipython3",
   "version": "3.8.10"
  }
 },
 "nbformat": 4,
 "nbformat_minor": 5
}
