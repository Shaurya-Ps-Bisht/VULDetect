{
 "cells": [
  {
   "cell_type": "markdown",
   "id": "3c2f0e07",
   "metadata": {},
   "source": [
    "# Converting json to datafram"
   ]
  },
  {
   "cell_type": "code",
   "execution_count": 1,
   "id": "8fde1558",
   "metadata": {},
   "outputs": [
    {
     "name": "stdout",
     "output_type": "stream",
     "text": [
      "Collecting duckdb\n",
      "  Downloading duckdb-0.10.1-cp38-cp38-manylinux_2_17_x86_64.manylinux2014_x86_64.whl.metadata (763 bytes)\n",
      "Downloading duckdb-0.10.1-cp38-cp38-manylinux_2_17_x86_64.manylinux2014_x86_64.whl (18.1 MB)\n",
      "\u001b[2K   \u001b[90m━━━━━━━━━━━━━━━━━━━━━━━━━━━━━━━━━━━━━━━━\u001b[0m \u001b[32m18.1/18.1 MB\u001b[0m \u001b[31m25.4 MB/s\u001b[0m eta \u001b[36m0:00:00\u001b[0m00:01\u001b[0m00:01\u001b[0m\n",
      "\u001b[?25hInstalling collected packages: duckdb\n",
      "Successfully installed duckdb-0.10.1\n"
     ]
    }
   ],
   "source": [
    "!pip install duckdb"
   ]
  },
  {
   "cell_type": "code",
   "execution_count": 3,
   "id": "9806047f",
   "metadata": {},
   "outputs": [],
   "source": [
    "import pandas as pd"
   ]
  },
  {
   "cell_type": "code",
   "execution_count": 10,
   "id": "622a15a3",
   "metadata": {},
   "outputs": [],
   "source": [
    "json_file = r\"/home/shaurya/BTP/1/Dataset/Diversevul/diversevul_20230702.json\""
   ]
  },
  {
   "cell_type": "code",
   "execution_count": 11,
   "id": "3c51e8ec",
   "metadata": {},
   "outputs": [],
   "source": [
    "import json"
   ]
  },
  {
   "cell_type": "code",
   "execution_count": 12,
   "id": "23f9416b",
   "metadata": {},
   "outputs": [],
   "source": [
    "pd.io.json._json.loads = lambda s, *a, **kw: json.loads(json_file)"
   ]
  },
  {
   "cell_type": "code",
   "execution_count": 13,
   "id": "b8d3779a",
   "metadata": {},
   "outputs": [],
   "source": [
    "import simplejson\n",
    "pd.io.json._json.loads = lambda s, *a, **kw: simplejson.loads(json_file)\n"
   ]
  },
  {
   "cell_type": "code",
   "execution_count": 14,
   "id": "8545b2a2",
   "metadata": {},
   "outputs": [],
   "source": [
    "pd.io.json._json.loads = lambda s, *a, **kw: pandas.json_normalize(simplejson.loads(json_file))"
   ]
  },
  {
   "cell_type": "code",
   "execution_count": 15,
   "id": "c0b8cc2d",
   "metadata": {},
   "outputs": [],
   "source": [
    "import duckdb\n",
    "\n",
    "df = duckdb.query('''\n",
    "SELECT * \n",
    "FROM read_json('/home/shaurya/BTP/1/Dataset/Diversevul/diversevul_20230702.json', auto_detect=True, sample_size=100000)\n",
    "''').to_df() "
   ]
  },
  {
   "cell_type": "code",
   "execution_count": 16,
   "id": "49afbbea",
   "metadata": {},
   "outputs": [],
   "source": [
    "df.to_csv('/home/shaurya/BTP/1/Outputs/CSV/diversevul.csv')"
   ]
  },
  {
   "cell_type": "code",
   "execution_count": null,
   "id": "59e27fda-681a-4ae5-8a9b-0af947bb6290",
   "metadata": {},
   "outputs": [],
   "source": []
  }
 ],
 "metadata": {
  "kernelspec": {
   "display_name": "Python 3 (ipykernel)",
   "language": "python",
   "name": "python3"
  },
  "language_info": {
   "codemirror_mode": {
    "name": "ipython",
    "version": 3
   },
   "file_extension": ".py",
   "mimetype": "text/x-python",
   "name": "python",
   "nbconvert_exporter": "python",
   "pygments_lexer": "ipython3",
   "version": "3.8.10"
  }
 },
 "nbformat": 4,
 "nbformat_minor": 5
}
